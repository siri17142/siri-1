{
 "cells": [
  {
   "cell_type": "code",
   "execution_count": null,
   "id": "460b5165",
   "metadata": {},
   "outputs": [],
   "source": [
    "import pandas as pd\n",
    "from sklearn.model_selection import train_test_split\n",
    "from sklearn.feature_extraction.text import CountVectorizer\n",
    "from sklearn.neural_network import MLPClassifier\n",
    "from sklearn.metrics import accuracy_score, confusion_matrix, precision_score, recall_score\n",
    "\n",
    "msglbl_data = pd.read_csv('Statements_data.csv', names=['Message', 'Label'])\n",
    "print(\"The Total instances in the Dataset: \", msglbl_data.shape[0])\n",
    "msglbl_data['labelnum'] = msglbl_data.Label.map({'pos': 1, 'neg': 0})\n",
    "# place the data in X and Y Vectors\n",
    "X = msglbl_data[\"Message\"]\n",
    "Y = msglbl_data.labelnum\n",
    "# to split the data into train se and test set\n",
    "Xtrain, Xtest, Ytrain, Ytest = train_test_split(X, Y)\n",
    "\n",
    "count_vect = CountVectorizer()\n",
    "Xtrain_dims = count_vect.fit_transform(Xtrain)\n",
    "Xtest_dims = count_vect.transform(Xtest)\n",
    "df = pd.DataFrame(Xtrain_dims.toarray(),columns=count_vect.get_feature_names_out())\n",
    "clf = MLPClassifier(solver='lbfgs', alpha=1e-5,hidden_layer_sizes=(5, 2), random_state=1)\n",
    "# to fit the train data into model\n",
    "clf.fit(Xtrain_dims, Ytrain)\n",
    "# to predict the test data\n",
    "prediction = clf.predict(Xtest_dims)\n",
    "print('******** Accuracy Metrics *********')\n",
    "print('Accuracy : ', accuracy_score(Ytest, prediction)) \n",
    "print('Recall : ', recall_score(Ytest, prediction)) \n",
    "print('Precision : ',precision_score(Ytest, prediction))\n",
    "print('Confusion Matrix : \\n', confusion_matrix(Ytest, prediction))\n",
    "print(10*\"-\")\n",
    "# to predict the input statement\n",
    "test_stmt = [input(\"Enter any statement to predict :\")]\n",
    "test_dims = count_vect.transform(test_stmt)\n",
    "pred = clf.predict(test_dims)\n",
    "for stmt,lbl in zip(test_stmt,pred):\n",
    "\tif lbl == 1:\n",
    "\t\tprint(\"Statement is Positive\")\n",
    "\telse:\n",
    "\t\tprint(\"Statement is Negative\")"
   ]
  },
  {
   "cell_type": "code",
   "execution_count": null,
   "id": "098439fb",
   "metadata": {},
   "outputs": [],
   "source": []
  }
 ],
 "metadata": {
  "kernelspec": {
   "display_name": "Python 3 (ipykernel)",
   "language": "python",
   "name": "python3"
  }
 },
 "nbformat": 4,
 "nbformat_minor": 5
}
